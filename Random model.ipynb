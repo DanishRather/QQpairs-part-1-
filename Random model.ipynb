{
 "cells": [
  {
   "cell_type": "code",
   "execution_count": 2,
   "metadata": {},
   "outputs": [],
   "source": [
    "import pandas as pd\n",
    "import numpy as np\n",
    "import seaborn as sns\n",
    "import matplotlib.pyplot as plt\n",
    "import warnings\n",
    "warnings.filterwarnings(\"ignore\")"
   ]
  },
  {
   "cell_type": "code",
   "execution_count": 29,
   "metadata": {},
   "outputs": [],
   "source": [
    "from sklearn.model_selection import train_test_split\n",
    "from sklearn.metrics import log_loss,accuracy_score,classification_report,confusion_matrix"
   ]
  },
  {
   "cell_type": "code",
   "execution_count": 30,
   "metadata": {},
   "outputs": [
    {
     "data": {
      "text/plain": [
       "(404290, 29)"
      ]
     },
     "execution_count": 30,
     "metadata": {},
     "output_type": "execute_result"
    }
   ],
   "source": [
    "# Pulling Data  from csv file\n",
    "df = pd.read_csv(r'Z:\\DS DATA\\modeldf.csv')\n",
    "df.shape"
   ]
  },
  {
   "cell_type": "code",
   "execution_count": 31,
   "metadata": {},
   "outputs": [
    {
     "name": "stdout",
     "output_type": "stream",
     "text": [
      "(10000, 29)\n"
     ]
    },
    {
     "data": {
      "text/html": [
       "<div>\n",
       "<style scoped>\n",
       "    .dataframe tbody tr th:only-of-type {\n",
       "        vertical-align: middle;\n",
       "    }\n",
       "\n",
       "    .dataframe tbody tr th {\n",
       "        vertical-align: top;\n",
       "    }\n",
       "\n",
       "    .dataframe thead th {\n",
       "        text-align: right;\n",
       "    }\n",
       "</style>\n",
       "<table border=\"1\" class=\"dataframe\">\n",
       "  <thead>\n",
       "    <tr style=\"text-align: right;\">\n",
       "      <th></th>\n",
       "      <th>is_duplicate</th>\n",
       "      <th>freq_qid1</th>\n",
       "      <th>freq_qid2</th>\n",
       "      <th>q1_alphabit_len</th>\n",
       "      <th>q2_alphabit_len</th>\n",
       "      <th>q1_n_unique_words</th>\n",
       "      <th>q2_n_unique_words</th>\n",
       "      <th>q1_union_q2</th>\n",
       "      <th>q1_intersec_q2</th>\n",
       "      <th>total_unique_words</th>\n",
       "      <th>...</th>\n",
       "      <th>ctc_min</th>\n",
       "      <th>ctc_max</th>\n",
       "      <th>fw_com</th>\n",
       "      <th>lw_com</th>\n",
       "      <th>abs_diff</th>\n",
       "      <th>ratio</th>\n",
       "      <th>token_set_ratio</th>\n",
       "      <th>token_sort_ratio</th>\n",
       "      <th>fuzz_ratio</th>\n",
       "      <th>partial_ratio</th>\n",
       "    </tr>\n",
       "  </thead>\n",
       "  <tbody>\n",
       "    <tr>\n",
       "      <th>187265</th>\n",
       "      <td>1</td>\n",
       "      <td>22</td>\n",
       "      <td>10</td>\n",
       "      <td>23</td>\n",
       "      <td>43</td>\n",
       "      <td>6</td>\n",
       "      <td>10</td>\n",
       "      <td>13.0</td>\n",
       "      <td>6.0</td>\n",
       "      <td>16.0</td>\n",
       "      <td>...</td>\n",
       "      <td>0.499992</td>\n",
       "      <td>0.299997</td>\n",
       "      <td>0.0</td>\n",
       "      <td>0.0</td>\n",
       "      <td>4.0</td>\n",
       "      <td>8.0</td>\n",
       "      <td>65</td>\n",
       "      <td>45</td>\n",
       "      <td>36</td>\n",
       "      <td>52</td>\n",
       "    </tr>\n",
       "    <tr>\n",
       "      <th>6557</th>\n",
       "      <td>1</td>\n",
       "      <td>1</td>\n",
       "      <td>1</td>\n",
       "      <td>37</td>\n",
       "      <td>46</td>\n",
       "      <td>7</td>\n",
       "      <td>8</td>\n",
       "      <td>9.0</td>\n",
       "      <td>7.0</td>\n",
       "      <td>15.0</td>\n",
       "      <td>...</td>\n",
       "      <td>0.857131</td>\n",
       "      <td>0.749991</td>\n",
       "      <td>1.0</td>\n",
       "      <td>0.0</td>\n",
       "      <td>1.0</td>\n",
       "      <td>7.5</td>\n",
       "      <td>88</td>\n",
       "      <td>80</td>\n",
       "      <td>70</td>\n",
       "      <td>68</td>\n",
       "    </tr>\n",
       "    <tr>\n",
       "      <th>139264</th>\n",
       "      <td>0</td>\n",
       "      <td>1</td>\n",
       "      <td>1</td>\n",
       "      <td>72</td>\n",
       "      <td>61</td>\n",
       "      <td>12</td>\n",
       "      <td>10</td>\n",
       "      <td>18.0</td>\n",
       "      <td>12.0</td>\n",
       "      <td>22.0</td>\n",
       "      <td>...</td>\n",
       "      <td>0.363633</td>\n",
       "      <td>0.285712</td>\n",
       "      <td>1.0</td>\n",
       "      <td>0.0</td>\n",
       "      <td>3.0</td>\n",
       "      <td>12.5</td>\n",
       "      <td>64</td>\n",
       "      <td>56</td>\n",
       "      <td>35</td>\n",
       "      <td>38</td>\n",
       "    </tr>\n",
       "    <tr>\n",
       "      <th>240135</th>\n",
       "      <td>1</td>\n",
       "      <td>3</td>\n",
       "      <td>1</td>\n",
       "      <td>69</td>\n",
       "      <td>44</td>\n",
       "      <td>9</td>\n",
       "      <td>7</td>\n",
       "      <td>11.0</td>\n",
       "      <td>9.0</td>\n",
       "      <td>16.0</td>\n",
       "      <td>...</td>\n",
       "      <td>0.714276</td>\n",
       "      <td>0.555549</td>\n",
       "      <td>1.0</td>\n",
       "      <td>0.0</td>\n",
       "      <td>2.0</td>\n",
       "      <td>8.0</td>\n",
       "      <td>87</td>\n",
       "      <td>66</td>\n",
       "      <td>71</td>\n",
       "      <td>86</td>\n",
       "    </tr>\n",
       "    <tr>\n",
       "      <th>3336</th>\n",
       "      <td>1</td>\n",
       "      <td>12</td>\n",
       "      <td>12</td>\n",
       "      <td>51</td>\n",
       "      <td>31</td>\n",
       "      <td>9</td>\n",
       "      <td>6</td>\n",
       "      <td>12.0</td>\n",
       "      <td>9.0</td>\n",
       "      <td>15.0</td>\n",
       "      <td>...</td>\n",
       "      <td>0.499992</td>\n",
       "      <td>0.299997</td>\n",
       "      <td>0.0</td>\n",
       "      <td>1.0</td>\n",
       "      <td>4.0</td>\n",
       "      <td>8.0</td>\n",
       "      <td>76</td>\n",
       "      <td>62</td>\n",
       "      <td>63</td>\n",
       "      <td>65</td>\n",
       "    </tr>\n",
       "  </tbody>\n",
       "</table>\n",
       "<p>5 rows × 29 columns</p>\n",
       "</div>"
      ],
      "text/plain": [
       "        is_duplicate  freq_qid1  freq_qid2  q1_alphabit_len  q2_alphabit_len  \\\n",
       "187265             1         22         10               23               43   \n",
       "6557               1          1          1               37               46   \n",
       "139264             0          1          1               72               61   \n",
       "240135             1          3          1               69               44   \n",
       "3336               1         12         12               51               31   \n",
       "\n",
       "        q1_n_unique_words  q2_n_unique_words  q1_union_q2  q1_intersec_q2  \\\n",
       "187265                  6                 10         13.0             6.0   \n",
       "6557                    7                  8          9.0             7.0   \n",
       "139264                 12                 10         18.0            12.0   \n",
       "240135                  9                  7         11.0             9.0   \n",
       "3336                    9                  6         12.0             9.0   \n",
       "\n",
       "        total_unique_words  ...   ctc_min   ctc_max  fw_com  lw_com  abs_diff  \\\n",
       "187265                16.0  ...  0.499992  0.299997     0.0     0.0       4.0   \n",
       "6557                  15.0  ...  0.857131  0.749991     1.0     0.0       1.0   \n",
       "139264                22.0  ...  0.363633  0.285712     1.0     0.0       3.0   \n",
       "240135                16.0  ...  0.714276  0.555549     1.0     0.0       2.0   \n",
       "3336                  15.0  ...  0.499992  0.299997     0.0     1.0       4.0   \n",
       "\n",
       "        ratio  token_set_ratio  token_sort_ratio  fuzz_ratio  partial_ratio  \n",
       "187265    8.0               65                45          36             52  \n",
       "6557      7.5               88                80          70             68  \n",
       "139264   12.5               64                56          35             38  \n",
       "240135    8.0               87                66          71             86  \n",
       "3336      8.0               76                62          63             65  \n",
       "\n",
       "[5 rows x 29 columns]"
      ]
     },
     "execution_count": 31,
     "metadata": {},
     "output_type": "execute_result"
    }
   ],
   "source": [
    "# Picking some random sample to quick up the process\n",
    "\n",
    "df= df.sample(n=10000,random_state=0)\n",
    "print(df.shape)\n",
    "df.head()"
   ]
  },
  {
   "cell_type": "code",
   "execution_count": 32,
   "metadata": {},
   "outputs": [
    {
     "name": "stdout",
     "output_type": "stream",
     "text": [
      "Shape of X: (Feature columns) (10000, 28)\n",
      "Shape of Y: (Target columns) (10000,)\n"
     ]
    }
   ],
   "source": [
    "# extracting the target column from feature columns\n",
    "\n",
    "y=df['is_duplicate']\n",
    "x=df.drop(columns=[\"is_duplicate\"])\n",
    "print(\"Shape of X: (Feature columns)\",x.shape)\n",
    "print(\"Shape of Y: (Target columns)\",y.shape)\n"
   ]
  },
  {
   "cell_type": "code",
   "execution_count": 33,
   "metadata": {},
   "outputs": [],
   "source": [
    "# 79641     1\n",
    "# y_true= list(map(int,y.values))\n",
    "# print(type(y_true))"
   ]
  },
  {
   "cell_type": "code",
   "execution_count": 34,
   "metadata": {},
   "outputs": [
    {
     "name": "stdout",
     "output_type": "stream",
     "text": [
      "Shape of x_train: (Training Data) (7000, 28)\n",
      "Shape of x_test: (Testing Data) (3000, 28)\n"
     ]
    }
   ],
   "source": [
    "# splitting data set for train and test\n",
    "\n",
    "x_train,x_test,y_train,y_test = train_test_split(\n",
    "    x, y, stratify=y,random_state=0, test_size=0.3)\n",
    "print(\"Shape of x_train: (Training Data)\",x_train.shape)\n",
    "print(\"Shape of x_test: (Testing Data)\",x_test.shape)\n"
   ]
  },
  {
   "cell_type": "markdown",
   "metadata": {},
   "source": [
    "<h1>Building a random model to calculate the worest-case of log_loss</h1>"
   ]
  },
  {
   "cell_type": "code",
   "execution_count": 35,
   "metadata": {},
   "outputs": [
    {
     "name": "stdout",
     "output_type": "stream",
     "text": [
      "[[0. 0.]\n",
      " [0. 0.]\n",
      " [0. 0.]\n",
      " ...\n",
      " [0. 0.]\n",
      " [0. 0.]\n",
      " [0. 0.]]\n"
     ]
    }
   ],
   "source": [
    "# this is line creates an ndarray of shape 3000x2 \n",
    "predicted_y = np.zeros((len(y_test),2))\n",
    "print(predicted_y)\n",
    "\n",
    "            # OUTPUT\n",
    "# [[0. 0.]\n",
    "#  [0. 0.]\n",
    "#  [0. 0.]\n",
    "#  ...\n",
    "#  [0. 0.]\n",
    "#  [0. 0.]\n",
    "#  [0. 0.]]"
   ]
  },
  {
   "cell_type": "code",
   "execution_count": 36,
   "metadata": {},
   "outputs": [
    {
     "name": "stdout",
     "output_type": "stream",
     "text": [
      "0.8715618249313896\n"
     ]
    }
   ],
   "source": [
    "for i in range(len(y_test)):\n",
    "#     this is line will create a array 1X2 \n",
    "#     with random distribution populated in it\n",
    "    rand_probs = np.random.rand(1,2)\n",
    "    predicted_y[i]= ((rand_probs/sum(sum(rand_probs)))[0])\n",
    "print(log_loss(y_test,predicted_y,eps=1e-15))\n"
   ]
  },
  {
   "cell_type": "code",
   "execution_count": 37,
   "metadata": {},
   "outputs": [
    {
     "name": "stdout",
     "output_type": "stream",
     "text": [
      "[0 1 0 ... 0 0 0]\n"
     ]
    }
   ],
   "source": [
    "x =np.argmax(predicted_y, axis=1)\n",
    "print(x)"
   ]
  },
  {
   "cell_type": "code",
   "execution_count": 38,
   "metadata": {},
   "outputs": [
    {
     "data": {
      "text/plain": [
       "0.21616187468057912"
      ]
     },
     "execution_count": 38,
     "metadata": {},
     "output_type": "execute_result"
    }
   ],
   "source": [
    "log_loss([\"spam\", \"ham\", \"ham\", \"spam\"],[[.1, .9], [.9, .1], [.8, .2], [.35, .65]])"
   ]
  },
  {
   "cell_type": "code",
   "execution_count": 39,
   "metadata": {},
   "outputs": [
    {
     "name": "stdout",
     "output_type": "stream",
     "text": [
      "[ True  True  True  True False]\n"
     ]
    }
   ],
   "source": [
    "y_true = [2, 0, 2, 2, 0, 1]\n",
    "y_pred = [0, 0, 2, 2, 0, 2]\n",
    "confusion_matrix(y_true, y_pred)\n",
    "# array([[2, 0, 0],\n",
    "#        [0, 0, 1],\n",
    "#        [1, 0, 2]])\n",
    "\n",
    "a=np.arange(5)\n",
    "print(a<=3)"
   ]
  }
 ],
 "metadata": {
  "kernelspec": {
   "display_name": "Python 3",
   "language": "python",
   "name": "python3"
  },
  "language_info": {
   "codemirror_mode": {
    "name": "ipython",
    "version": 3
   },
   "file_extension": ".py",
   "mimetype": "text/x-python",
   "name": "python",
   "nbconvert_exporter": "python",
   "pygments_lexer": "ipython3",
   "version": "3.7.3"
  }
 },
 "nbformat": 4,
 "nbformat_minor": 2
}
