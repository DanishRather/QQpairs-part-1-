{
 "cells": [
  {
   "cell_type": "code",
   "execution_count": 53,
   "metadata": {},
   "outputs": [],
   "source": [
    "from sklearn.model_selection import train_test_split\n",
    "from sklearn.model_selection import GridSearchCV\n",
    "from sklearn.datasets import *\n",
    "from sklearn.linear_model import LogisticRegression\n",
    "from sklearn.metrics import log_loss,roc_auc_score, brier_score_loss\n",
    "from sklearn.calibration import calibration_curve\n",
    "from sklearn.calibration import CalibratedClassifierCV\n",
    "\n",
    "import numpy as np\n",
    "import pandas as pd\n",
    "import seaborn as sns\n",
    "import matplotlib.pyplot as plt\n",
    "from sklearn.datasets import make_classification\n",
    "from sklearn.preprocessing import StandardScaler\n",
    "from sklearn import linear_model\n",
    "\n",
    "col = list(range(1,21))\n",
    "\n",
    "from sklearn.calibration import CalibratedClassifierCV\n",
    "from sklearn.model_selection import GridSearchCV\n",
    "from sklearn.linear_model import SGDClassifier\n",
    "from sklearn.linear_model import LogisticRegression"
   ]
  },
  {
   "cell_type": "markdown",
   "metadata": {},
   "source": [
    "<h1>Caliberation of unbalanced data set</h1>"
   ]
  },
  {
   "cell_type": "code",
   "execution_count": 57,
   "metadata": {},
   "outputs": [
    {
     "name": "stdout",
     "output_type": "stream",
     "text": [
      "0    69827\n",
      "1    30173\n",
      "Name: target, dtype: int64\n"
     ]
    }
   ],
   "source": [
    "data_set = make_classification(n_samples=10000,weights=[0.7])\n",
    "un_bal_data = pd.DataFrame(data=c[0][:], columns=col)\n",
    "un_bal_data[\"target\"] = c[1]\n",
    "print(un_bal_data[\"target\"].value_counts())\n",
    "un_bal_y=un_bal_data[\"target\"]\n",
    "un_bal_X=un_bal_data.drop(columns=[\"target\"])"
   ]
  },
  {
   "cell_type": "code",
   "execution_count": 61,
   "metadata": {},
   "outputs": [
    {
     "name": "stdout",
     "output_type": "stream",
     "text": [
      "(70000, 20) (30000, 20)\n",
      "(70000,) (30000,)\n"
     ]
    }
   ],
   "source": [
    "# data = load_breast_cancer()\n",
    "X_train,X_test, y_train, y_test = train_test_split(\n",
    "    un_bal_X, un_bal_y, stratify=un_bal_y, test_size=0.3)\n",
    "print(X_train.shape,X_test.shape)\n",
    "print(y_train.shape,y_test.shape)"
   ]
  },
  {
   "cell_type": "code",
   "execution_count": 58,
   "metadata": {},
   "outputs": [
    {
     "name": "stdout",
     "output_type": "stream",
     "text": [
      "For values of alpha =  1e-05 The log loss is: 0.3059002409588481\n",
      "For values of alpha =  0.0001 The log loss is: 0.3045995134333974\n",
      "For values of alpha =  0.001 The log loss is: 0.30315930704601746\n",
      "For values of alpha =  0.01 The log loss is: 0.3030791200466701\n",
      "For values of alpha =  0.1 The log loss is: 0.3085666744729638\n",
      "For values of alpha =  1 The log loss is: 0.3343666620590421\n",
      "For values of alpha =  10 The log loss is: 0.35510965145070034\n"
     ]
    }
   ],
   "source": [
    "alpha = [10 ** x for x in range(-5,2)]\n",
    "log_error_array=[]\n",
    "for i in alpha:\n",
    "    clf = SGDClassifier(alpha=i, penalty='l2', loss='log', random_state=42)\n",
    "    clf.fit(X_train, y_train)\n",
    "    sig_clf = CalibratedClassifierCV(clf, method=\"sigmoid\")\n",
    "    sig_clf.fit(X_train, y_train)\n",
    "    predict_y = sig_clf.predict_proba(X_test)\n",
    "    log_error_array.append(log_loss(y_test, predict_y, labels=clf.classes_, eps=1e-15))\n",
    "    print('For values of alpha = ', i, \"The log loss is:\",log_loss(y_test, predict_y, labels=clf.classes_, eps=1e-15))"
   ]
  },
  {
   "cell_type": "code",
   "execution_count": 67,
   "metadata": {},
   "outputs": [
    {
     "name": "stdout",
     "output_type": "stream",
     "text": [
      "(80000, 20) (80000,)\n",
      "(20000, 20) (20000,)\n"
     ]
    }
   ],
   "source": [
    "x_train,x_test,y_train,y_test = train_test_split(un_bal_X,un_bal_y,test_size=.2)\n",
    "# x1_train,x1_test,y1_train,y1_test = train_test_split(x_train,y_train,test_size=.2)\n",
    "print(x_train.shape,y_train.shape)\n",
    "print(x_test.shape,y_test.shape)\n",
    "# print(\"-\"*20)\n",
    "# print(x1_train.shape)\n",
    "# print(x1_test.shape)\n",
    "# print(y1_train.shape)\n",
    "# print(y1_test.shape)"
   ]
  },
  {
   "cell_type": "code",
   "execution_count": 68,
   "metadata": {},
   "outputs": [
    {
     "data": {
      "text/plain": [
       "LogisticRegression()"
      ]
     },
     "execution_count": 68,
     "metadata": {},
     "output_type": "execute_result"
    }
   ],
   "source": [
    "clf = LogisticRegression()\n",
    "clf.fit(x_train,y_train)\n",
    "# pred_prob = clf.predict_proba(x_test)[:, 1]\n",
    "# y_pred = clf.predict(x_test)"
   ]
  },
  {
   "cell_type": "code",
   "execution_count": null,
   "metadata": {},
   "outputs": [],
   "source": [
    "sig_clf = CalibratedClassifierCV(clf, method=\"sigmoid\")"
   ]
  },
  {
   "cell_type": "code",
   "execution_count": 49,
   "metadata": {},
   "outputs": [
    {
     "name": "stdout",
     "output_type": "stream",
     "text": [
      "0.9642086777131912\n",
      "0.061875529579241514\n",
      "2.783853363339858\n"
     ]
    }
   ],
   "source": [
    "print(roc_auc_score(y_test,pred_prob))\n",
    "print(brier_score_loss(y_test,pred_prob))\n",
    "print(log_loss(y_test,y_pred))"
   ]
  },
  {
   "cell_type": "code",
   "execution_count": 42,
   "metadata": {},
   "outputs": [],
   "source": [
    "calibrated_clf = CalibratedClassifierCV(clf, cv=10, method='isotonic')\n",
    "calibrated_clf.fit(x1_test, y1_test)\n",
    "y_pred_c = calibrated_clf.predict_proba(x1_test)[:, 1]"
   ]
  },
  {
   "cell_type": "code",
   "execution_count": 43,
   "metadata": {},
   "outputs": [
    {
     "name": "stdout",
     "output_type": "stream",
     "text": [
      "0.9357556588115087\n",
      "0.09008485759657914\n"
     ]
    }
   ],
   "source": [
    "print(roc_auc_score(y1_test,y_pred_c))\n",
    "print(brier_score_loss(y1_test,y_pred_c))\n",
    "# print(log_loss(y_test,y_pred))"
   ]
  },
  {
   "cell_type": "code",
   "execution_count": 29,
   "metadata": {},
   "outputs": [],
   "source": [
    "dx = {\"Predicted\":y_pred,\"Probabilities\":pred_prob}\n",
    "data_x = pd.DataFrame(data=dx)"
   ]
  },
  {
   "cell_type": "code",
   "execution_count": 28,
   "metadata": {},
   "outputs": [],
   "source": [
    "# def Prob_minus(x):\n",
    "#     print(x)\n",
    "# data_x[\"1_Prob\"] = data_x[\"Probabilities\"].apply(Prob_minus)"
   ]
  },
  {
   "cell_type": "code",
   "execution_count": 33,
   "metadata": {},
   "outputs": [
    {
     "data": {
      "text/plain": [
       "<matplotlib.axes._subplots.AxesSubplot at 0x2c20c5c0320>"
      ]
     },
     "execution_count": 33,
     "metadata": {},
     "output_type": "execute_result"
    },
    {
     "data": {
      "image/png": "[encoded data removed]",
      "text/plain": [
       "<Figure size 432x288 with 1 Axes>"
      ]
     },
     "metadata": {
      "needs_background": "light"
     },
     "output_type": "display_data"
    }
   ],
   "source": [
    "# sns.lineplot(x=data_x[\"Probabilities\"],y=data_x[\"Probabilities\"])\n",
    "# sns.lineplot(x=data_x[\"Probabilities\"],y=data_x[\"Probabilities\"].sort_values())"
   ]
  },
  {
   "cell_type": "code",
   "execution_count": 7,
   "metadata": {},
   "outputs": [
    {
     "name": "stdout",
     "output_type": "stream",
     "text": [
      "0    25002\n",
      "1    24998\n",
      "Name: target, dtype: int64\n"
     ]
    }
   ],
   "source": [
    "c = make_classification(n_samples=50000) #weights=[0.7]\n",
    "bal_data = pd.DataFrame(data=c[0][:], columns=col)\n",
    "bal_data[\"target\"] = c[1]\n",
    "print(bal_data[\"target\"].value_counts())\n",
    "bal_y=bal_data[\"target\"]\n",
    "bal_X=bal_data.drop(columns=[\"target\"])"
   ]
  }
 ],
 "metadata": {
  "kernelspec": {
   "display_name": "Python 3 (ipykernel)",
   "language": "python",
   "name": "python3"
  },
  "language_info": {
   "codemirror_mode": {
    "name": "ipython",
    "version": 3
   },
   "file_extension": ".py",
   "mimetype": "text/x-python",
   "name": "python",
   "nbconvert_exporter": "python",
   "pygments_lexer": "ipython3",
   "version": "3.10.9"
  }
 },
 "nbformat": 4,
 "nbformat_minor": 2
}
